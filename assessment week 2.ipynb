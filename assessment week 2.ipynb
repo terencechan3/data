{
 "cells": [
  {
   "cell_type": "code",
   "execution_count": null,
   "id": "2bf8a5a8",
   "metadata": {},
   "outputs": [],
   "source": [
    "x=input('File name: ')\n",
    "\n",
    "file= open(x,'r')\n",
    "\n",
    "content=file.read()\n",
    "\n",
    "for line in content:\n",
    "    for i in line:\n",
    "        if i.isdigit() == True:\n",
    "            file= open(x,'r')\n",
    "            print(file.read(10))\n",
    "        else:\n",
    "            txtfile=open(x,'w')\n",
    "            file.write(i.lower())\n",
    "            file.write (\"\\n\")\n",
    "            file.close()\n",
    "\n",
    "            "
   ]
  },
  {
   "cell_type": "raw",
   "id": "808a86e8",
   "metadata": {},
   "source": [
    "\n"
   ]
  },
  {
   "cell_type": "code",
   "execution_count": null,
   "id": "30217486",
   "metadata": {},
   "outputs": [],
   "source": []
  }
 ],
 "metadata": {
  "kernelspec": {
   "display_name": "Python 3 (ipykernel)",
   "language": "python",
   "name": "python3"
  },
  "language_info": {
   "codemirror_mode": {
    "name": "ipython",
    "version": 3
   },
   "file_extension": ".py",
   "mimetype": "text/x-python",
   "name": "python",
   "nbconvert_exporter": "python",
   "pygments_lexer": "ipython3",
   "version": "3.9.12"
  }
 },
 "nbformat": 4,
 "nbformat_minor": 5
}
